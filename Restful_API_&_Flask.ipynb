{
  "nbformat": 4,
  "nbformat_minor": 0,
  "metadata": {
    "colab": {
      "provenance": []
    },
    "kernelspec": {
      "name": "python3",
      "display_name": "Python 3"
    },
    "language_info": {
      "name": "python"
    }
  },
  "cells": [
    {
      "cell_type": "markdown",
      "source": [
        "**1. What is a RESTful API?**\n",
        "\n",
        "A RESTful API is an interface that uses HTTP requests to access and manipulate data using standard operations like GET, POST, PUT, DELETE. It follows REST architecture principles."
      ],
      "metadata": {
        "id": "qI4bZSn77SLr"
      }
    },
    {
      "cell_type": "markdown",
      "source": [
        "**2. Explain the concept of API specification ?**\n",
        "\n",
        " An API specification defines how an API behaves, including endpoints, request/response formats, parameters, status codes, and data models. Example: OpenAPI/Swagger."
      ],
      "metadata": {
        "id": "fos5oNxR7ly8"
      }
    },
    {
      "cell_type": "markdown",
      "source": [
        "**3. What is Flask, and why is it popular for building APIs?**\n",
        "\n",
        "Flask is a lightweight Python web framework. It's popular because it's easy to use, flexible, has many extensions, and is good for building RESTful APIs quickly."
      ],
      "metadata": {
        "id": "uzTTR_Er7xLt"
      }
    },
    {
      "cell_type": "markdown",
      "source": [
        "**Q4. What is Routing in Flask?**\n",
        "\n",
        "Routing in Flask refers to the process of mapping URLs to Python functions. When a user accesses a specific URL in the web browser, Flask determines which function should handle the request based on the route defined in the code."
      ],
      "metadata": {
        "id": "oSxGl5e976mR"
      }
    },
    {
      "cell_type": "markdown",
      "source": [
        "**Q5. How Do You Create a Simple Flask Application ?**\n",
        "\n",
        "A Flask application is a lightweight web server built using the Flask framework in Python. It allows developers to create web APIs or full web applications with minimal setup.\n",
        "\n"
      ],
      "metadata": {
        "id": "gaI_qYFu8b4G"
      }
    },
    {
      "cell_type": "markdown",
      "source": [
        "**6. What are HTTP methods used in RESTful APIs?**\n",
        "\n",
        "**GET** – Retrieve data\n",
        "\n",
        "**POST** – Create data\n",
        "\n",
        "**PUT** – Update data\n",
        "\n",
        "**DELETE** – Remove data\n",
        "\n",
        "**PATCH** – Partial update"
      ],
      "metadata": {
        "id": "JavKqFCH9ZHf"
      }
    },
    {
      "cell_type": "markdown",
      "source": [
        "**07. What is the purpose of the @app.route() decorator in Flask ?**\n",
        "\n",
        "The @app.route() decorator in Flask is used to bind a URL path to a specific function, which is called whenever that URL is accessed in the browser or through an API call.\n",
        "\n",
        "To define routes (URLs) in the application.\n",
        "\n",
        "To map a URL endpoint (like /home, /about) to a Python view function.\n",
        "\n",
        "To tell Flask what to do when a user visits a particular URL."
      ],
      "metadata": {
        "id": "rBeAg_Ir92Z5"
      }
    },
    {
      "cell_type": "markdown",
      "source": [
        "**08. What is the difference between GET and POST HTTP methods ?**\n",
        "\n",
        "**GET Method:**\n",
        "\n",
        "Used to retrieve data from the server.\n",
        "\n",
        "Data is sent through the URL as query parameters.\n",
        "\n",
        "Parameters are visible in the browser (not secure).\n",
        "\n",
        "Can be cached and bookmarked.\n",
        "\n",
        "Has length limitations due to URL size.\n",
        "\n",
        "**POST Method:**\n",
        "\n",
        "Used to send or submit data to the server.\n",
        "\n",
        "Data is sent in the request body, not the URL.\n",
        "\n",
        "Parameters are hidden (more secure).\n",
        "\n",
        "Cannot be cached or bookmarked.\n",
        "\n",
        "Suitable for large data transfers (e.g., form submissions).\n",
        "\n"
      ],
      "metadata": {
        "id": "C2WfFdi7--AD"
      }
    },
    {
      "cell_type": "markdown",
      "source": [
        "**09. How do you handle errors in Flask APIs?**\n",
        "\n",
        "Flask allows error handling using the @app.errorhandler() decorator. You can define custom responses for errors like 404 (Not Found) or 500 (Internal Server Error). This improves user experience and helps debug issues. You can also return JSON error messages for APIs."
      ],
      "metadata": {
        "id": "EA8A1LnQ__bR"
      }
    },
    {
      "cell_type": "markdown",
      "source": [
        "**10. How do you connect Flask to a SQL database?**\n",
        "\n",
        "Flask can connect to SQL databases using extensions like Flask-SQLAlchemy. You define the database URI in the configuration, initialize SQLAlchemy with the Flask app, and define models. This enables you to interact with the database using Python code instead of raw SQL."
      ],
      "metadata": {
        "id": "1CzVLbNNAst2"
      }
    },
    {
      "cell_type": "markdown",
      "source": [
        "**11. What is the role of Flask-SQLAlchemy?**\n",
        "\n",
        "Flask-SQLAlchemy is an extension that integrates SQLAlchemy (ORM) with Flask. It allows you to work with databases using Python classes and objects. You can create, read, update, and delete records easily. It simplifies database management in Flask applications."
      ],
      "metadata": {
        "id": "w46e0HPuAxM1"
      }
    },
    {
      "cell_type": "markdown",
      "source": [
        "**12. What are Flask blueprints, and how are they useful?**\n",
        "\n",
        "Flask blueprints allow you to split an app into smaller, reusable modules. Each blueprint can have its own routes, templates, and static files. This makes the app more organized and easier to maintain, especially in large applications or when working with teams."
      ],
      "metadata": {
        "id": "6yuuaqnTA69y"
      }
    },
    {
      "cell_type": "markdown",
      "source": [
        "**13. What is the purpose of Flask's request object?**\n",
        "\n",
        "The request object in Flask holds all the incoming request data such as form inputs, JSON payloads, headers, and query parameters. It helps the server understand what the client sent. It’s essential for handling input in POST, PUT, or GET requests."
      ],
      "metadata": {
        "id": "o9R0tOzEBV-b"
      }
    },
    {
      "cell_type": "markdown",
      "source": [
        "**14. How do you create a RESTful API endpoint using Flask?**\n",
        "\n",
        "You create a RESTful API endpoint by defining a route with @app.route() and specifying HTTP methods like GET or POST. Inside the function, you process the request and return a response, often in JSON format. This allows clients to interact with your app programmatically."
      ],
      "metadata": {
        "id": "DEUvrgxkBoI3"
      }
    },
    {
      "cell_type": "markdown",
      "source": [
        "**15. What is the purpose of Flask's jsonify() function?**\n",
        "\n",
        "The jsonify() function converts Python dictionaries or lists into JSON responses. It also sets the correct MIME type (application/json) automatically. It’s the preferred way to return JSON data in Flask APIs."
      ],
      "metadata": {
        "id": "VRALeNVzBs-q"
      }
    },
    {
      "cell_type": "markdown",
      "source": [
        "**16. Explain Flask’s url_for() function ?**\n",
        "\n",
        "url_for() generates URLs dynamically using the function name instead of hardcoding paths. This helps manage routes efficiently and avoids breaking links when URLs change. It’s commonly used in redirects and templates."
      ],
      "metadata": {
        "id": "-ibgeBWXB083"
      }
    },
    {
      "cell_type": "markdown",
      "source": [
        "**17. How does Flask handle static files (CSS, JavaScript, etc.)?**\n",
        "\n",
        "Flask serves static files from the static/ directory by default. You can include CSS or JS in HTML templates using url_for('static', filename='style.css'). This helps in building complete front-end interfaces along with APIs"
      ],
      "metadata": {
        "id": "Nd6YUnMNB8eM"
      }
    },
    {
      "cell_type": "markdown",
      "source": [
        "**18. What is an API specification, and how does it help in building a Flask API?**\n",
        "\n",
        "An API specification defines the structure, endpoints, request types, and response formats of an API. It acts as a blueprint for developers and consumers. In Flask, it ensures consistency and helps automate documentation and testing (e.g., with Swagger/OpenAPI)."
      ],
      "metadata": {
        "id": "7dvCcWghCBMS"
      }
    },
    {
      "cell_type": "markdown",
      "source": [
        "**19. What are HTTP status codes, and why are they important in a Flask API?**\n",
        "\n",
        "HTTP status codes indicate the result of an API request (e.g., 200 OK, 404 Not Found, 500 Internal Server Error). In Flask, they are returned with responses to inform clients about success or failure. They help with debugging and proper error handling."
      ],
      "metadata": {
        "id": "mimSbZZjCIzH"
      }
    },
    {
      "cell_type": "markdown",
      "source": [
        "**20. How do you handle POST requests in Flask?**\n",
        "\n",
        "POST requests in Flask are handled using @app.route() with methods=['POST']. The data is accessed using request.form or request.json. This method is commonly used for form submissions or API calls that send new data to the server.\\"
      ],
      "metadata": {
        "id": "7PyB-pbaChd1"
      }
    },
    {
      "cell_type": "markdown",
      "source": [
        "**21. How would you secure a Flask API?**\n",
        "\n",
        "To secure a Flask API, implement authentication (like JWT or API keys), enforce HTTPS for data encryption, and use input validation to prevent injection attacks. You can also add rate limiting and CORS policies. These practices protect your API from unauthorized access and misuse."
      ],
      "metadata": {
        "id": "IFsqhx47Cp3o"
      }
    },
    {
      "cell_type": "markdown",
      "source": [
        "**22. What is the significance of the Flask-RESTful extension?**\n",
        "\n",
        "Flask-RESTful is an extension that simplifies building REST APIs using Flask. It provides a structured, object-oriented way to define resources, routes, and methods like GET and POST. It enhances code readability, reusability, and helps manage larger APIs more efficiently."
      ],
      "metadata": {
        "id": "q67P5rUNC1D4"
      }
    },
    {
      "cell_type": "markdown",
      "source": [
        "**THEORY QUESTIONS -**"
      ],
      "metadata": {
        "id": "UDggvOU_C8IQ"
      }
    },
    {
      "cell_type": "code",
      "source": [
        "# How do you serve static files like images or CSS in Flask ?\n",
        "\n",
        "project/\n",
        "├── app.py\n",
        "└── static/\n",
        "    └── style.css\n",
        "\n",
        "from flask import Flask, render_template_string, url_for\n",
        "\n",
        "app = Flask(__name__)\n",
        "\n",
        "@app.route('/')\n",
        "def home():\n",
        "    return render_template_string(\"\"\"\n",
        "        <html>\n",
        "        <head>\n",
        "            <link rel=\"stylesheet\" href=\"{{ url_for('static', filename='style.css') }}\">\n",
        "        </head>\n",
        "        <body>\n",
        "            <h1>Welcome to Flask</h1>\n",
        "            <p>This is styled using an external CSS file.</p>\n",
        "        </body>\n",
        "        </html>\n",
        "    \"\"\")\n",
        "\n",
        "if __name__ == '__main__':\n",
        "    app.run(debug=True)\n",
        "\n",
        "body {\n",
        "    background-color: #f0f8ff;\n",
        "    font-family: Arial, sans-serif;\n",
        "    text-align: center;\n",
        "}\n",
        "\n",
        "h1 {\n",
        "    color: #007BFF;\n",
        "}"
      ],
      "metadata": {
        "id": "LN4BlgqrEeRc"
      },
      "execution_count": null,
      "outputs": []
    },
    {
      "cell_type": "code",
      "source": [
        "# How do you define different routes with different HTTP methods in Flask ?\n",
        "from flask import Flask, request\n",
        "\n",
        "app = Flask(__name__)\n",
        "\n",
        "# Route handling GET requests\n",
        "@app.route('/get-example', methods=['GET'])\n",
        "def get_example():\n",
        "    return \"This is a GET request.\"\n",
        "\n",
        "# Route handling POST requests\n",
        "@app.route('/post-example', methods=['POST'])\n",
        "def post_example():\n",
        "    data = request.form.get('name')\n",
        "    return f\"Hello, {data} (via POST request)\"\n",
        "\n",
        "# Route handling both GET and POST\n",
        "@app.route('/both-example', methods=['GET', 'POST'])\n",
        "def both_example():\n",
        "    if request.method == 'POST':\n",
        "        return \"You sent a POST request.\"\n",
        "    else:\n",
        "        return \"You sent a GET request.\"\n",
        "\n",
        "if __name__ == '__main__':\n",
        "    app.run(debug=True)"
      ],
      "metadata": {
        "id": "lEKH2tGOEtTC"
      },
      "execution_count": 3,
      "outputs": []
    },
    {
      "cell_type": "code",
      "source": [
        "#How do you render HTML templates in Flask ?\n",
        "from flask import Flask, render_template_string\n",
        "\n",
        "app = Flask(__name__)\n",
        "\n",
        "@app.route('/')\n",
        "def hello():\n",
        "    html = \"\"\"\n",
        "    <!DOCTYPE html>\n",
        "    <html>\n",
        "    <head>\n",
        "        <title>Hello Page</title>\n",
        "    </head>\n",
        "    <body>\n",
        "        <h1>Hello, {{ name }}!</h1>\n",
        "        <p>This page is rendered directly from a Python string.</p>\n",
        "    </body>\n",
        "    </html>\n",
        "    \"\"\"\n",
        "    return render_template_string(html, name='Flask User')\n",
        "\n",
        "if __name__ == '__main__':\n",
        "    app.run(debug=True)"
      ],
      "metadata": {
        "id": "QDvZ7QU2FND-"
      },
      "execution_count": null,
      "outputs": []
    },
    {
      "cell_type": "code",
      "source": [
        "#How do you handle forms in Flask ?\n",
        "from flask import Flask, render_template, request\n",
        "\n",
        "app = Flask(__name__)\n",
        "\n",
        "@app.route('/')\n",
        "def form():\n",
        "    return render_template('form.html')\n",
        "\n",
        "@app.route('/submit', methods=['POST'])\n",
        "def submit():\n",
        "    name = request.form.get('name')\n",
        "    return render_template('result.html', name=name)\n",
        "\n",
        "if __name__ == '__main__':\n",
        "    app.run(debug=True)\n",
        "<!DOCTYPE html>\n",
        "<html>\n",
        "<head>\n",
        "    <title>Flask Form</title>\n",
        "</head>\n",
        "<body>\n",
        "    <h2>Enter Your Name</h2>\n",
        "    <form action=\"/submit\" method=\"post\">\n",
        "        <input type=\"text\" name=\"name\" required>\n",
        "        <input type=\"submit\" value=\"Submit\">\n",
        "    </form>\n",
        "</body>\n",
        "</html>\n",
        "<!DOCTYPE html>\n",
        "<html>\n",
        "<head>\n",
        "    <title>Result</title>\n",
        "</head>\n",
        "<body>\n",
        "    <h2>Hello, {{ name }}!</h2>\n",
        "</body>\n",
        "</html>"
      ],
      "metadata": {
        "id": "clTx0OptFsaL"
      },
      "execution_count": null,
      "outputs": []
    },
    {
      "cell_type": "code",
      "source": [
        "#How do you manage sessions in Flask ?\n",
        "app.secret_key = 'secret'\n",
        "app.permanent_session_lifetime = timedelta(minutes=5)\n",
        "\n",
        "@app.route('/login')\n",
        "def login():\n",
        "    session['user'] = 'admin'\n",
        "    return \"Logged in\"\n",
        "\n",
        "@app.route('/session')\n",
        "def session_data():\n",
        "    return session.get('user', 'No user in session')"
      ],
      "metadata": {
        "id": "q2CgvtLxGVJo"
      },
      "execution_count": 5,
      "outputs": []
    },
    {
      "cell_type": "code",
      "source": [
        "#How do you handle errors in Flask (e.g., 404) ?\n",
        "@app.errorhandler(404)\n",
        "def not_found(e):\n",
        "    return \"Page not found\", 404"
      ],
      "metadata": {
        "id": "F_ACHFUrG6w0"
      },
      "execution_count": null,
      "outputs": []
    },
    {
      "cell_type": "code",
      "source": [
        "#How do you define a custom Jinja filter in Flask4 ?\n",
        "@app.template_filter('reverse')\n",
        "def reverse_filter(s):\n",
        "    return s[::-1]"
      ],
      "metadata": {
        "id": "2RWiWKAEIWac"
      },
      "execution_count": null,
      "outputs": []
    },
    {
      "cell_type": "code",
      "source": [
        "#How can you redirect with query parameters in Flask ?\n",
        "@app.route('/query')\n",
        "def query():\n",
        "    return redirect(url_for('search', q='flask'))\n",
        "\n",
        "@app.route('/search')\n",
        "def search():\n",
        "    q = request.args.get('q')\n",
        "    return f\"Search result for: {q}\""
      ],
      "metadata": {
        "id": "v29HdBzSIf1R"
      },
      "execution_count": null,
      "outputs": []
    },
    {
      "cell_type": "code",
      "source": [
        "#How do you return JSON responses in Flask ?\n",
        "@app.route('/json')\n",
        "def json_response():\n",
        "    return jsonify({\"message\": \"Success\", \"status\": 200})"
      ],
      "metadata": {
        "id": "wHyw2dNOIs47"
      },
      "execution_count": null,
      "outputs": []
    },
    {
      "cell_type": "code",
      "source": [
        "#How do you capture URL parameters in Flask?\n",
        "@app.route('/user/<username>')\n",
        "def user_profile(username):\n",
        "    return f\"Hello, {username}!\"\n",
        "\n",
        "# To run this file: python app.py and open http://127.0.0.1:5000/\n",
        "\n",
        "if __name__ == '__main__':\n",
        "    app.run(debug=True)"
      ],
      "metadata": {
        "id": "FQSuJZ-oIzm8"
      },
      "execution_count": null,
      "outputs": []
    }
  ]
}